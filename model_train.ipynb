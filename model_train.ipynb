{
  "nbformat": 4,
  "nbformat_minor": 0,
  "metadata": {
    "colab": {
      "provenance": []
    },
    "kernelspec": {
      "name": "python3",
      "display_name": "Python 3"
    },
    "language_info": {
      "name": "python"
    },
    "accelerator": "GPU",
    "gpuClass": "standard"
  },
  "cells": [
    {
      "cell_type": "code",
      "source": [
        "from google.colab import drive\n",
        "drive.mount('/content/drive')"
      ],
      "metadata": {
        "colab": {
          "base_uri": "https://localhost:8080/"
        },
        "id": "CI-jVnQ0-yQ5",
        "outputId": "7b2d1e52-61ef-4a66-8b72-7f32a3d65246"
      },
      "execution_count": 3,
      "outputs": [
        {
          "output_type": "stream",
          "name": "stdout",
          "text": [
            "Mounted at /content/drive\n"
          ]
        }
      ]
    },
    {
      "cell_type": "markdown",
      "source": [
        "### Imports & Constant Paths"
      ],
      "metadata": {
        "id": "ynCrYj5-2OpS"
      }
    },
    {
      "cell_type": "code",
      "source": [
        "import tensorflow as tf\n",
        "import numpy as np\n",
        "\n",
        "from tensorflow import keras\n",
        "from skimage import filters\n",
        "from matplotlib import pyplot as plt\n",
        "from sklearn import metrics as skmetrics\n",
        "from scipy import interp\n",
        "from itertools import cycle\n",
        "\n",
        "import os\n",
        "import collections\n",
        "import json"
      ],
      "metadata": {
        "id": "EicnxO9rn-xa"
      },
      "execution_count": 4,
      "outputs": []
    },
    {
      "cell_type": "code",
      "source": [
        "TF_RECORDS_DB = \"/content/drive/MyDrive/IE3_ML_Team/Data/TFRecords\"\n",
        "TRAIN = \"TRAIN\"\n",
        "TEST = \"TEST\"\n",
        "VAL = \"VAL\"\n",
        "\n",
        "DB_MODELS = \"/content/drive/MyDrive/IE3_ML_Team/Model\""
      ],
      "metadata": {
        "id": "EoPHd1RdoIvs"
      },
      "execution_count": 5,
      "outputs": []
    },
    {
      "cell_type": "code",
      "source": [
        "LABELS = {'CN': 0, 'MCI': 1, 'AD': 2}\n",
        "BINARY_LABELS = {'CN': 0, 'AD': 1}\n",
        "\n",
        "ORIGINAL_IMG_SHAPE = (78, 110, 86)\n",
        "IMG_2D_SHAPE = (ORIGINAL_IMG_SHAPE[1] * 4, \n",
        "                ORIGINAL_IMG_SHAPE[2] * 4, \n",
        "                1)\n",
        "IMG_RGB_SHAPE = (ORIGINAL_IMG_SHAPE[1] * 4, \n",
        "                 ORIGINAL_IMG_SHAPE[2] * 4, \n",
        "                 3)\n",
        "\n",
        "TEST_SPLIT = 0.15\n",
        "VALIDATION_SPLIT = 0.15"
      ],
      "metadata": {
        "id": "jcIEAi_upEGw"
      },
      "execution_count": 7,
      "outputs": []
    },
    {
      "cell_type": "markdown",
      "source": [
        "### Checking TFRecords Data"
      ],
      "metadata": {
        "id": "sYHilol92FlK"
      }
    },
    {
      "cell_type": "code",
      "source": [
        "#checking tfrecords data\n",
        "training_tfrec = os.path.join(TF_RECORDS_DB, TRAIN)\n",
        "testing_tfrec = os.path.join(TF_RECORDS_DB, TEST)\n",
        "val_tfrec = os.path.join(TF_RECORDS_DB, VAL)"
      ],
      "metadata": {
        "id": "WA6XSK9epKFP"
      },
      "execution_count": 16,
      "outputs": []
    },
    {
      "cell_type": "code",
      "source": [
        "def num_data_points(dataset,tfpath):\n",
        "  num = 0\n",
        "  for record in tf.data.TFRecordDataset(tfpath):\n",
        "    num += 1\n",
        "  print(f\"Number of records for {dataset} = {num}\")\n",
        "  return num"
      ],
      "metadata": {
        "id": "bEkCdN6-pgQO"
      },
      "execution_count": null,
      "outputs": []
    },
    {
      "cell_type": "code",
      "source": [
        "num_train = num_data_points(\"training\",training_tfrec)\n",
        "num_test = num_data_points(\"testing\",testing_tfrec)\n",
        "num_validation = num_data_points(\"validation\",val_tfrec)\n",
        "print(f\"In total, there are {num_train + num_test + num_validation} records.\")"
      ],
      "metadata": {
        "colab": {
          "base_uri": "https://localhost:8080/"
        },
        "id": "ZoRtmRBup1z5",
        "outputId": "88ccc08c-cecc-4904-b9fa-ec411e0fed3a"
      },
      "execution_count": null,
      "outputs": [
        {
          "output_type": "stream",
          "name": "stdout",
          "text": [
            "Number of records for training = 1658\n",
            "Number of records for testing = 343\n",
            "Number of records for validation = 292\n",
            "In total, there are 2293 records.\n"
          ]
        }
      ]
    },
    {
      "cell_type": "code",
      "source": [
        "SHUFFLE_BUFFER = 100"
      ],
      "metadata": {
        "id": "t8ptgP2aJD6J"
      },
      "execution_count": 10,
      "outputs": []
    },
    {
      "cell_type": "code",
      "source": [
        "# Code to import TFRecords\n",
        "def decode(serialized_example):\n",
        "  \n",
        "  # decode examples stored in TFRecord\n",
        "  feature = tf.io.parse_single_example(\n",
        "      serialized_example,\n",
        "      features = {\n",
        "          'image': tf.io.FixedLenFeature(IMG_RGB_SHAPE, tf.float32),\n",
        "          'label': tf.io.FixedLenFeature([], tf.int64)\n",
        "      }\n",
        "  )\n",
        "\n",
        "  # encode the label\n",
        "  label = tf.one_hot(feature['label'], 2)\n",
        "  \n",
        "  return feature['image'], label"
      ],
      "metadata": {
        "id": "oiA-mm6iJHAD"
      },
      "execution_count": 8,
      "outputs": []
    },
    {
      "cell_type": "code",
      "source": [
        "def dataset_parser(filepath, batch_size, n_classes):\n",
        "  ''' This method generates the dataset that is passed into the Keras model\n",
        "      \n",
        "      Parameters:\n",
        "        filepath -- The complete path to the TFRecord file\n",
        "        batch_size\n",
        "        n_classes \n",
        "        \n",
        "      Returns:\n",
        "        dataset\n",
        "  '''\n",
        "  \n",
        "  # create and configure the dataset\n",
        "  dataset = tf.data.TFRecordDataset(filepath).map(decode)\n",
        "  dataset = dataset.shuffle(SHUFFLE_BUFFER, seed=tf.random.set_seed(21))\n",
        "  dataset = dataset.repeat()\n",
        "  \n",
        "  dataset = dataset.batch(batch_size)\n",
        "  dataset = dataset.prefetch(tf.data.experimental.AUTOTUNE)\n",
        "  \n",
        "  return dataset"
      ],
      "metadata": {
        "id": "HuxH0CegJRMB"
      },
      "execution_count": 9,
      "outputs": []
    },
    {
      "cell_type": "markdown",
      "source": [
        "### Model Training"
      ],
      "metadata": {
        "id": "bKTX1wCe2UKo"
      }
    },
    {
      "cell_type": "code",
      "source": [
        "BATCH_SIZE = 16\n",
        "  \n",
        "STEPS_PER_EPOCH = num_train//BATCH_SIZE\n",
        "VALIDATION_STEPS = num_validation//BATCH_SIZE\n",
        "\n",
        "n_classes = len(BINARY_LABELS)\n"
      ],
      "metadata": {
        "id": "nfSLSDfTJjmG",
        "colab": {
          "base_uri": "https://localhost:8080/",
          "height": 235
        },
        "outputId": "40a6e7f8-8dcd-48c0-fa8e-1ab745ba1259"
      },
      "execution_count": 18,
      "outputs": [
        {
          "output_type": "error",
          "ename": "NameError",
          "evalue": "ignored",
          "traceback": [
            "\u001b[0;31m---------------------------------------------------------------------------\u001b[0m",
            "\u001b[0;31mNameError\u001b[0m                                 Traceback (most recent call last)",
            "\u001b[0;32m<ipython-input-18-f588a8388e45>\u001b[0m in \u001b[0;36m<cell line: 3>\u001b[0;34m()\u001b[0m\n\u001b[1;32m      1\u001b[0m \u001b[0mBATCH_SIZE\u001b[0m \u001b[0;34m=\u001b[0m \u001b[0;36m16\u001b[0m\u001b[0;34m\u001b[0m\u001b[0;34m\u001b[0m\u001b[0m\n\u001b[1;32m      2\u001b[0m \u001b[0;34m\u001b[0m\u001b[0m\n\u001b[0;32m----> 3\u001b[0;31m \u001b[0mSTEPS_PER_EPOCH\u001b[0m \u001b[0;34m=\u001b[0m \u001b[0mnum_train\u001b[0m\u001b[0;34m//\u001b[0m\u001b[0mBATCH_SIZE\u001b[0m\u001b[0;34m\u001b[0m\u001b[0;34m\u001b[0m\u001b[0m\n\u001b[0m\u001b[1;32m      4\u001b[0m \u001b[0mVALIDATION_STEPS\u001b[0m \u001b[0;34m=\u001b[0m \u001b[0mnum_validation\u001b[0m\u001b[0;34m//\u001b[0m\u001b[0mBATCH_SIZE\u001b[0m\u001b[0;34m\u001b[0m\u001b[0;34m\u001b[0m\u001b[0m\n\u001b[1;32m      5\u001b[0m \u001b[0;34m\u001b[0m\u001b[0m\n",
            "\u001b[0;31mNameError\u001b[0m: name 'num_train' is not defined"
          ]
        }
      ]
    },
    {
      "cell_type": "code",
      "source": [
        "train_dataset = dataset_parser(training_tfrec, \n",
        "                               BATCH_SIZE,\n",
        "                               n_classes)"
      ],
      "metadata": {
        "id": "tXaXKaTFK41o"
      },
      "execution_count": null,
      "outputs": []
    },
    {
      "cell_type": "code",
      "source": [
        "# load validation data tensors\n",
        "validation_dataset = dataset_parser(val_tfrec, \n",
        "                                    BATCH_SIZE, \n",
        "                                    n_classes)"
      ],
      "metadata": {
        "id": "dFdCZWR3283m"
      },
      "execution_count": null,
      "outputs": []
    },
    {
      "cell_type": "code",
      "source": [
        "from keras.models import Sequential\n",
        "from keras.layers import Dense\n",
        "from keras.layers import Conv2D, MaxPooling2D, Flatten, Dense\n",
        "\n",
        "# Initialize the model\n",
        "model = Sequential()\n",
        "\n",
        "# Add the first convolutional layer\n",
        "model.add(Conv2D(32, (3, 3), activation='relu', input_shape=(IMG_2D_SHAPE[0], IMG_2D_SHAPE[1], 3)))\n",
        "\n",
        "# Add the max pooling layer\n",
        "model.add(MaxPooling2D((2, 2)))\n",
        "\n",
        "# Add the second convolutional layer\n",
        "model.add(Conv2D(64, (3, 3), activation='relu'))\n",
        "\n",
        "# Add the max pooling layer\n",
        "model.add(MaxPooling2D((2, 2)))\n",
        "\n",
        "# Flatten the output from the convolutional layers\n",
        "model.add(Flatten())\n",
        "\n",
        "# Add the dense layer\n",
        "model.add(Dense(64, activation='relu'))\n",
        "\n",
        "# Add the output layer\n",
        "model.add(Dense(2, activation='sigmoid'))\n",
        "\n",
        "# Compile the model with the modified optimizer\n",
        "model.compile(optimizer=\"adam\", loss='binary_crossentropy', metrics=['accuracy'])\n",
        "\n",
        "# Fit the model to the data\n",
        "model.fit(train_dataset, epochs=20, batch_size=BATCH_SIZE, steps_per_epoch=STEPS_PER_EPOCH,validation_data=validation_dataset,validation_steps=VALIDATION_STEPS)\n",
        "\n",
        "CHECK_POINT = \"trained_cnn\"\n",
        "model_file = os.path.join(DB_MODELS, CHECK_POINT) + '.h5'\n",
        "model.save(model_file) "
      ],
      "metadata": {
        "colab": {
          "base_uri": "https://localhost:8080/"
        },
        "id": "lmH1oR5Sf6df",
        "outputId": "d4cb8a21-1c8e-4888-de69-064d7c76c190"
      },
      "execution_count": null,
      "outputs": [
        {
          "output_type": "stream",
          "name": "stdout",
          "text": [
            "Epoch 1/20\n",
            "103/103 [==============================] - 13s 100ms/step - loss: 2.6144 - accuracy: 0.4994 - val_loss: 0.6830 - val_accuracy: 0.4861\n",
            "Epoch 2/20\n",
            "103/103 [==============================] - 10s 102ms/step - loss: 0.6756 - accuracy: 0.4854 - val_loss: 0.6734 - val_accuracy: 0.4896\n",
            "Epoch 3/20\n",
            "103/103 [==============================] - 10s 99ms/step - loss: 0.6552 - accuracy: 0.4921 - val_loss: 0.6641 - val_accuracy: 0.5000\n",
            "Epoch 4/20\n",
            "103/103 [==============================] - 10s 96ms/step - loss: 0.5800 - accuracy: 0.6032 - val_loss: 0.7018 - val_accuracy: 0.5938\n",
            "Epoch 5/20\n",
            "103/103 [==============================] - 13s 126ms/step - loss: 0.3824 - accuracy: 0.7549 - val_loss: 0.6233 - val_accuracy: 0.6562\n",
            "Epoch 6/20\n",
            "103/103 [==============================] - 10s 93ms/step - loss: 0.1583 - accuracy: 0.8447 - val_loss: 0.6069 - val_accuracy: 0.7569\n",
            "Epoch 7/20\n",
            "103/103 [==============================] - 10s 98ms/step - loss: 0.0438 - accuracy: 0.8677 - val_loss: 0.6412 - val_accuracy: 0.7604\n",
            "Epoch 8/20\n",
            "103/103 [==============================] - 10s 101ms/step - loss: 0.0108 - accuracy: 0.8774 - val_loss: 0.6066 - val_accuracy: 0.7292\n",
            "Epoch 9/20\n",
            "103/103 [==============================] - 10s 95ms/step - loss: 0.0024 - accuracy: 0.8617 - val_loss: 0.6411 - val_accuracy: 0.7431\n",
            "Epoch 10/20\n",
            "103/103 [==============================] - 10s 93ms/step - loss: 0.0049 - accuracy: 0.8756 - val_loss: 0.6828 - val_accuracy: 0.7083\n",
            "Epoch 11/20\n",
            "103/103 [==============================] - 11s 104ms/step - loss: 0.0023 - accuracy: 0.8532 - val_loss: 0.6723 - val_accuracy: 0.7465\n",
            "Epoch 12/20\n",
            "103/103 [==============================] - 10s 101ms/step - loss: 9.0196e-04 - accuracy: 0.8786 - val_loss: 0.6977 - val_accuracy: 0.7222\n",
            "Epoch 13/20\n",
            "103/103 [==============================] - 12s 120ms/step - loss: 6.4050e-04 - accuracy: 0.8519 - val_loss: 0.7100 - val_accuracy: 0.7396\n",
            "Epoch 14/20\n",
            "103/103 [==============================] - 10s 94ms/step - loss: 4.0441e-04 - accuracy: 0.8762 - val_loss: 0.7276 - val_accuracy: 0.7361\n",
            "Epoch 15/20\n",
            "103/103 [==============================] - 13s 123ms/step - loss: 1.7720e-04 - accuracy: 0.8647 - val_loss: 0.7421 - val_accuracy: 0.7326\n",
            "Epoch 16/20\n",
            "103/103 [==============================] - 10s 101ms/step - loss: 1.4019e-04 - accuracy: 0.8671 - val_loss: 0.7560 - val_accuracy: 0.7292\n",
            "Epoch 17/20\n",
            "103/103 [==============================] - 10s 97ms/step - loss: 1.1279e-04 - accuracy: 0.8665 - val_loss: 0.7330 - val_accuracy: 0.7431\n",
            "Epoch 18/20\n",
            "103/103 [==============================] - 13s 127ms/step - loss: 9.2257e-05 - accuracy: 0.8641 - val_loss: 0.7734 - val_accuracy: 0.7396\n",
            "Epoch 19/20\n",
            "103/103 [==============================] - 12s 114ms/step - loss: 7.8196e-05 - accuracy: 0.8635 - val_loss: 0.7788 - val_accuracy: 0.7396\n",
            "Epoch 20/20\n",
            "103/103 [==============================] - 11s 103ms/step - loss: 6.5392e-05 - accuracy: 0.8653 - val_loss: 0.7751 - val_accuracy: 0.7431\n"
          ]
        }
      ]
    },
    {
      "cell_type": "markdown",
      "source": [
        "### Model Testing"
      ],
      "metadata": {
        "id": "d47pmrS7pvI-"
      }
    },
    {
      "cell_type": "code",
      "source": [
        "model_file = os.path.join(DB_MODELS, \"trained_cnn\") + '.h5'\n",
        "model = tf.keras.models.load_model(model_file)\n"
      ],
      "metadata": {
        "id": "I37ZsZcAqaSX"
      },
      "execution_count": 12,
      "outputs": []
    },
    {
      "cell_type": "code",
      "source": [
        "def get_data_for_predict(tfrec_file, batch_size):\n",
        "  ''' Read and return the data from a TFRecord file.\n",
        "      \n",
        "      Params:\n",
        "        tfrec_file -- Absolute path to the .tfrecord\n",
        "        \n",
        "      \n",
        "      Returns:\n",
        "        dataset\n",
        "  '''\n",
        "  # create the iterator for the TFRecord\n",
        "  dataset = tf.data.TFRecordDataset(tfrec_file).map(decode)\n",
        "  dataset = dataset.batch(batch_size)\n",
        "  dataset = dataset.prefetch(tf.data.experimental.AUTOTUNE)\n",
        "      \n",
        "  return dataset"
      ],
      "metadata": {
        "id": "gLGlVlMDpxV5"
      },
      "execution_count": 13,
      "outputs": []
    },
    {
      "cell_type": "code",
      "source": [
        "from sklearn.metrics import roc_curve, auc, roc_auc_score\n",
        "\n",
        "def compute_auc(model,dataset, title):\n",
        "  ''' Computes the ROC and AUC for a given model\n",
        "      and a specific test set.\n",
        "      \n",
        "      Parameters:\n",
        "        model -- The trained model\n",
        "        dataset -- dataset\n",
        "        title\n",
        "  '''\n",
        "  # Use the trained model to make predictions on the validation dataset\n",
        "  y_pred = model.predict(dataset)\n",
        "\n",
        "  # Calculate the true labels for the validation dataset\n",
        "  y_true = np.concatenate([y for x, y in dataset], axis=0)\n",
        "\n",
        "  fpr, tpr, thresholds = roc_curve(y_true[:, 1], y_pred[:, 1])\n",
        "  roc_auc = auc(fpr, tpr)\n",
        "\n",
        "  plt.plot(fpr, tpr, color='red', lw=2, label='ROC curve (AUC = %0.2f)' % roc_auc)\n",
        "  plt.plot([0, 1], [0, 1], color='navy', lw=2, linestyle='--')\n",
        "  plt.xlim([0.0, 1.0])\n",
        "  plt.ylim([0.0, 1.05])\n",
        "  plt.xlabel('False Positive Rate')\n",
        "  plt.ylabel('True Positive Rate')\n",
        "  plt.title('Receiver Operating Characteristic')\n",
        "  plt.legend(loc=\"lower right\")\n",
        "  plt.show()\n",
        "\n",
        "  plt.savefig(os.path.join(DB_MODELS, \"roc_curve.png\"))\n",
        "\n",
        "\n",
        "  roc_auc = roc_auc_score(y_true, y_pred)\n",
        "  print(roc_auc)\n",
        "  "
      ],
      "metadata": {
        "id": "Ar3OQdzHqAid"
      },
      "execution_count": 23,
      "outputs": []
    },
    {
      "cell_type": "code",
      "source": [
        "BATCH_SIZE = 16\n",
        "\n",
        "training_dataset = get_data_for_predict(testing_tfrec, BATCH_SIZE)"
      ],
      "metadata": {
        "id": "N7hZdNjYqYpu"
      },
      "execution_count": 19,
      "outputs": []
    },
    {
      "cell_type": "code",
      "source": [
        "compute_auc(model, training_dataset, 'AUC for Sequential CNN')\n"
      ],
      "metadata": {
        "colab": {
          "base_uri": "https://localhost:8080/",
          "height": 524
        },
        "id": "LV8j4hWVs_xN",
        "outputId": "21134f62-aa3d-44c8-f325-a7aa07d176a7"
      },
      "execution_count": 24,
      "outputs": [
        {
          "output_type": "stream",
          "name": "stdout",
          "text": [
            "22/22 [==============================] - 1s 58ms/step\n"
          ]
        },
        {
          "output_type": "display_data",
          "data": {
            "text/plain": [
              "<Figure size 640x480 with 1 Axes>"
            ],
            "image/png": "[encoded data removed]"
          },
          "metadata": {}
        },
        {
          "output_type": "stream",
          "name": "stdout",
          "text": [
            "0.9443913756361639\n"
          ]
        },
        {
          "output_type": "display_data",
          "data": {
            "text/plain": [
              "<Figure size 640x480 with 0 Axes>"
            ]
          },
          "metadata": {}
        }
      ]
    }
  ]
}